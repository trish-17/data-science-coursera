{
  "metadata": {
    "language_info": {
      "codemirror_mode": {
        "name": "python",
        "version": 3
      },
      "file_extension": ".py",
      "mimetype": "text/x-python",
      "name": "python",
      "nbconvert_exporter": "python",
      "pygments_lexer": "ipython3",
      "version": "3.8"
    },
    "kernelspec": {
      "name": "python",
      "display_name": "Python (Pyodide)",
      "language": "python"
    }
  },
  "nbformat_minor": 4,
  "nbformat": 4,
  "cells": [
    {
      "cell_type": "markdown",
      "source": "# **My Jupyter Notebook on IBM Watson Studio**",
      "metadata": {}
    },
    {
      "cell_type": "markdown",
      "source": "**Trisha Ghosh** <br>\nEngineering undergrad",
      "metadata": {}
    },
    {
      "cell_type": "markdown",
      "source": "*I am interested in data science because I love telling stories with data and using data to help bring that data to life.I love helping others. In data science that could be helping a business understand its customers or improving the way it uses its customer data.*",
      "metadata": {}
    },
    {
      "cell_type": "markdown",
      "source": "### Division in Python : When you divide in Python, your quotient will always be returned as a float, even if you use two integers:\n",
      "metadata": {}
    },
    {
      "cell_type": "code",
      "source": "80/5\n",
      "metadata": {
        "trusted": true
      },
      "execution_count": 2,
      "outputs": [
        {
          "execution_count": 2,
          "output_type": "execute_result",
          "data": {
            "text/plain": "16.0"
          },
          "metadata": {}
        }
      ]
    },
    {
      "cell_type": "markdown",
      "source": "- Bullet point",
      "metadata": {}
    },
    {
      "cell_type": "markdown",
      "source": "Horizontal line: <br>\n***",
      "metadata": {}
    },
    {
      "cell_type": "markdown",
      "source": "This is an image <br>\n![img.png](attachment:1fa2a0e8-d67d-49cd-ad0f-ef437b65dc43.png)\n",
      "metadata": {},
      "attachments": {
        "1fa2a0e8-d67d-49cd-ad0f-ef437b65dc43.png": {
          "image/png": "[encoded data removed]"
        }
      }
    },
    {
      "cell_type": "code",
      "source": "",
      "metadata": {},
      "execution_count": null,
      "outputs": []
    }
  ]
}